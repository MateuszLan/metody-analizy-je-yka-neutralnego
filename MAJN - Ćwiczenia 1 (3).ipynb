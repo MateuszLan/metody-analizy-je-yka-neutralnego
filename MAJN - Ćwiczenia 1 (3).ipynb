{
 "cells": [
  {
   "cell_type": "markdown",
   "id": "1235ca25",
   "metadata": {},
   "source": [
    "# Wyrażenia regularne - ćwiczenie\n",
    "  \n",
    "  \n",
    "dr inż. Mateusz Gorczyca"
   ]
  },
  {
   "cell_type": "code",
   "execution_count": 3,
   "id": "d7d3faec",
   "metadata": {
    "slideshow": {
     "slide_type": "fragment"
    }
   },
   "outputs": [],
   "source": [
    "import re"
   ]
  },
  {
   "cell_type": "markdown",
   "id": "b88c4fd1",
   "metadata": {},
   "source": [
    "**Zadanie 1**. W poniższym tekście znajdź korzystając z wyrażeń regularnych każde z poniższych:  \n",
    "- wyraz pisany dużą literą\n",
    "- wyraz pisany wyłącznie dużymi literami,\n",
    "- treść w nawiasach,\n",
    "- odnośnik literaturowy,\n",
    "- rok,\n",
    "- datę,\n",
    "- miesiąc w każdej dacie,\n",
    "- wielkość prędkości.  \n",
    "  \n",
    "Dla każdego z powyższych podpunktów utwórz oddzielne wyrażenie regularne."
   ]
  },
  {
   "cell_type": "code",
   "execution_count": 7,
   "id": "e6d0beec",
   "metadata": {},
   "outputs": [],
   "source": [
    "tekst = '''Nowy plan zakładał gigantyczny wzrost inwestycji, któremu towarzyszyła kampania propagandowa. Rozpoczęto budowę nowych zakładów produkcyjnych (m.in. Huty Katowice, Rafinerii Gdańskiej, Portu Północnego, Fabryk Samochodów Małolitrażowych w Bielsku-Białej i Tychach, kopalni w Zagłębiu Lubelskim i w Bełchatowie). W 1973 roku rozpoczęto produkcję Polskiego Fiata 126p. Obok zakładów przemysłowych budowano bloki mieszkaniowe – według założeń do połowy lat 80. miano zaspokoić potrzeby mieszkaniowe społeczeństwa[37]. Czas oczekiwania na nowe mieszkanie za rządów Edwarda Gierka wynosił od 6 do 15 lat[26]. Obok rozwoju przemysłu planowano unowocześnienie infrastruktury. Elektryfikowano kolejne odcinki linii kolejowych, rozpoczęto budowę nowych dróg (np. Gierkówki powstałej w znaczniej mierze dzięki żołnierzom[38]), w Warszawie rozpoczęto budowę Trasy Łazienkowskiej i Dworca Centralnego. Jedną ze sztandarowych inwestycji była budowa Centralnej Magistrali Kolejowej (CMK) – najnowocześniejszej w krajach RWPG linii kolejowej. CMK miała połączyć Górny Śląsk i jej kopalnie węgla z portami w Trójmieście. Według planów pociągi miały jeździć początkowo z prędkością 160 km/h, a po ukończeniu budowy 250 km/h[26]. Z braku środków inwestycyjnych budowę CMK zakończono w 1977 roku. Udało się wybudować trasę łączącą Grodzisk Mazowiecki ze Śląskiem[26]. Ponadto narzucony termin sprawił, że zaniedbano wyposażenie CMK w nowoczesne systemy kierowania ruchem kolejowym, zaniechano budowy nasypów pod tory oraz bezkolizyjnych przejazdów[26]. Do połowy lat 80. na całej trasie obowiązywało ograniczenie prędkości do 140 km/h[26]. \n",
    "20 lipca 1972 roku Piotr Jaroszewicz podpisał uchwałę Rady Ministrów w sprawie udzielania dodatkowych dni wolnych od pracy[26]. W 1975 roku pojawiły się wolne soboty[37]. Wzrost produkcji był połączony ze wzrostem płac. W rolnictwie zniesiono obowiązkowe dostawy zboża, ziemniaków i żywca (1 stycznia 1972[37]), a rolników objęto ubezpieczeniem i ułatwiono im obrót ziemią[37]. Władze zachęcały rolników do specjalizacji produkcji i inwestycji. Jednocześnie zaczęły powstawać wielkie państwowe fermy hodowlane[37]. W latach 1971–1974 dochód narodowy wzrósł o prawie 60%, produkcja przemysłowa o 64%, rolnicza o 19%, płace realne o 41%[37]. '''"
   ]
  },
  {
   "cell_type": "code",
   "execution_count": 47,
   "id": "e32eeebc-a2d3-4def-83eb-819f86b1ceb5",
   "metadata": {},
   "outputs": [
    {
     "data": {
      "text/plain": [
       "['Nowy',\n",
       " 'Rozpoczęto',\n",
       " 'Huty',\n",
       " 'Katowice',\n",
       " 'Rafinerii',\n",
       " 'Gdańskiej',\n",
       " 'Portu',\n",
       " 'Północnego',\n",
       " 'Fabryk',\n",
       " 'Samochodów',\n",
       " 'Małolitrażowych',\n",
       " 'Bielsku',\n",
       " 'Białej',\n",
       " 'Tychach',\n",
       " 'Zagłębiu',\n",
       " 'Lubelskim',\n",
       " 'Bełchatowie',\n",
       " 'W',\n",
       " 'Polskiego',\n",
       " 'Fiata',\n",
       " 'Obok',\n",
       " 'Czas',\n",
       " 'Edwarda',\n",
       " 'Gierka',\n",
       " 'Obok',\n",
       " 'Elektryfikowano',\n",
       " 'Gierkówki',\n",
       " 'Warszawie',\n",
       " 'Trasy',\n",
       " 'Dworca',\n",
       " 'Centralnego',\n",
       " 'Jedną',\n",
       " 'Centralnej',\n",
       " 'Magistrali',\n",
       " 'Kolejowej',\n",
       " 'CMK',\n",
       " 'RWPG',\n",
       " 'CMK',\n",
       " 'Górny',\n",
       " 'Trójmieście',\n",
       " 'Według',\n",
       " 'Z',\n",
       " 'CMK',\n",
       " 'Udało',\n",
       " 'Grodzisk',\n",
       " 'Mazowiecki',\n",
       " 'Ponadto',\n",
       " 'CMK',\n",
       " 'Do',\n",
       " 'Piotr',\n",
       " 'Jaroszewicz',\n",
       " 'Rady',\n",
       " 'Ministrów',\n",
       " 'W',\n",
       " 'Wzrost',\n",
       " 'W',\n",
       " 'Władze',\n",
       " 'Jednocześnie',\n",
       " 'W']"
      ]
     },
     "execution_count": 47,
     "metadata": {},
     "output_type": "execute_result"
    }
   ],
   "source": [
    "duza_litera_regex = re.compile(r'[A-Z]\\w*')\n",
    "duza_litera_regex.findall(tekst)"
   ]
  },
  {
   "cell_type": "code",
   "execution_count": 57,
   "id": "2b57ad14-4c45-4c4d-8cc7-15d52974af37",
   "metadata": {},
   "outputs": [
    {
     "data": {
      "text/plain": [
       "['W', 'CMK', 'RWPG', 'CMK', 'Z', 'CMK', 'CMK', 'W', 'W', 'W']"
      ]
     },
     "execution_count": 57,
     "metadata": {},
     "output_type": "execute_result"
    }
   ],
   "source": [
    "same_duze_regex = re.compile(r'\\b[A-Z]+\\b')\n",
    "same_duze_regex.findall(tekst)"
   ]
  },
  {
   "cell_type": "code",
   "execution_count": 31,
   "id": "d95a9a8b-493e-4575-8097-87890cc0bb3d",
   "metadata": {},
   "outputs": [
    {
     "data": {
      "text/plain": [
       "['m.in. Huty Katowice, Rafinerii Gdańskiej, Portu Północnego, Fabryk Samochodów Małolitrażowych w Bielsku-Białej i Tychach, kopalni w Zagłębiu Lubelskim i w Bełchatowie',\n",
       " 'np. Gierkówki powstałej w znaczniej mierze dzięki żołnierzom[38]',\n",
       " 'CMK',\n",
       " '1 stycznia 1972[37]']"
      ]
     },
     "execution_count": 31,
     "metadata": {},
     "output_type": "execute_result"
    }
   ],
   "source": [
    "nawiasy_regex = re.compile(r'\\(([^)]+)\\)')\n",
    "nawiasy_regex.findall(tekst)"
   ]
  },
  {
   "cell_type": "code",
   "execution_count": 33,
   "id": "ae5c391c-f14f-4616-99ee-c6134d44dfed",
   "metadata": {},
   "outputs": [
    {
     "data": {
      "text/plain": [
       "['[37]',\n",
       " '[26]',\n",
       " '[38]',\n",
       " '[26]',\n",
       " '[26]',\n",
       " '[26]',\n",
       " '[26]',\n",
       " '[26]',\n",
       " '[37]',\n",
       " '[37]',\n",
       " '[37]',\n",
       " '[37]',\n",
       " '[37]']"
      ]
     },
     "execution_count": 33,
     "metadata": {},
     "output_type": "execute_result"
    }
   ],
   "source": [
    "odnosniki_regex = re.compile(r'(\\[\\d\\d\\])')\n",
    "odnosniki_regex.findall(tekst)"
   ]
  },
  {
   "cell_type": "code",
   "execution_count": 74,
   "id": "145fc89c-4d82-4dad-8d56-fcd46727879c",
   "metadata": {},
   "outputs": [
    {
     "data": {
      "text/plain": [
       "['1973', '1977', '1972', '1975', '1972', '1971', '1974']"
      ]
     },
     "execution_count": 74,
     "metadata": {},
     "output_type": "execute_result"
    }
   ],
   "source": [
    "rok_regex = re.compile(r'((?:19|20)\\d\\d)')\n",
    "rok_regex.findall(tekst)"
   ]
  },
  {
   "cell_type": "code",
   "execution_count": 78,
   "id": "6e3e0a2f-309d-4183-95eb-cb671d387854",
   "metadata": {},
   "outputs": [
    {
     "data": {
      "text/plain": [
       "['20 lipca 1972', '1 stycznia 1972']"
      ]
     },
     "execution_count": 78,
     "metadata": {},
     "output_type": "execute_result"
    }
   ],
   "source": [
    "data_regex = re.compile(r'\\b\\d{1,2} [a-zA-Z]+ \\d{4}\\b')\n",
    "data_regex.findall(tekst)"
   ]
  },
  {
   "cell_type": "code",
   "execution_count": 80,
   "id": "c86373a2-c539-43bd-a5a0-29e1d690b233",
   "metadata": {},
   "outputs": [
    {
     "data": {
      "text/plain": [
       "['lipca', 'stycznia']"
      ]
     },
     "execution_count": 80,
     "metadata": {},
     "output_type": "execute_result"
    }
   ],
   "source": [
    "miesiac_regex = re.compile(r'\\b\\d{1,2} ([a-zA-Z]+) \\d{4}\\b')\n",
    "miesiac_regex.findall(tekst)"
   ]
  },
  {
   "cell_type": "code",
   "execution_count": 84,
   "id": "69acb93a-8412-4932-accf-2a7a2295d63d",
   "metadata": {},
   "outputs": [
    {
     "data": {
      "text/plain": [
       "[('160', 'km/h'), ('250', 'km/h'), ('140', 'km/h')]"
      ]
     },
     "execution_count": 84,
     "metadata": {},
     "output_type": "execute_result"
    }
   ],
   "source": [
    "wielkosc_predkosc_regex = re.compile(r'(\\d+)\\s?(km/h)')\n",
    "wielkosc_predkosc_regex.findall(tekst)"
   ]
  },
  {
   "cell_type": "markdown",
   "id": "b20a7fc6",
   "metadata": {},
   "source": [
    "**Zadanie 2**. Znajdź wyrażenie regularne, które będzie pasowało do wszystkich łańcuchów z listy 1 (w całości), ale nie będzie pasowało do żadnego z łańcuchów z listy 2:"
   ]
  },
  {
   "cell_type": "code",
   "execution_count": 59,
   "id": "5bd22ff5",
   "metadata": {},
   "outputs": [],
   "source": [
    "lista1 = ['as:123:a4', \n",
    "         'gb:345:d2',\n",
    "         'tu:456:h4',\n",
    "         'mm:233:s4'\n",
    "        ]\n",
    "lista2 = ['0s:432:u7',\n",
    "          'fc:m32:f6'\n",
    "          'dd:6o7:n6',\n",
    "          'gg:62s:n6',\n",
    "          'm4:627:n6',\n",
    "          'ma:627:26',\n",
    "          'ma:627:nb'\n",
    "        ]"
   ]
  },
  {
   "cell_type": "code",
   "execution_count": 67,
   "id": "6f1a63e8-57fb-4d6e-bfbf-dc877d5d270d",
   "metadata": {},
   "outputs": [
    {
     "name": "stdout",
     "output_type": "stream",
     "text": [
      "['as:123:a4', 'gb:345:d2', 'tu:456:h4', 'mm:233:s4']\n",
      "[]\n"
     ]
    }
   ],
   "source": [
    "lista_regex = re.compile(r'^[a-z]{2}:\\d{3}:[a-z]\\d$')\n",
    "\n",
    "lista1 = [element for element in lista1 if lista_regex.findall(element)]\n",
    "lista2 = [element for element in lista2 if lista_regex.findall(element)]\n",
    "\n",
    "print(lista1)\n",
    "print(lista2)"
   ]
  },
  {
   "cell_type": "markdown",
   "id": "5a653a55",
   "metadata": {},
   "source": [
    "**Zadanie 3**. Znajdź wyrażenie regularne, które będzie pasowało do wszystkich łańcuchów z listy 1 (w całości), ale nie będzie pasowało do żadnego z łańcuchów z listy 2:"
   ]
  },
  {
   "cell_type": "code",
   "execution_count": 69,
   "id": "ab82545d",
   "metadata": {},
   "outputs": [],
   "source": [
    "lista1 = ['od-rodzenie!', \n",
    "         'od-mowa!', 'wy-mowa!', 'roz-mowa!',\n",
    "         'od-powiedź!', 'wy-powiedź!', \n",
    "         'od-czekać!', 'wy-czekać!', \n",
    "         'od-kopać!', 'wy-kopać!', 'roz-kopać!',\n",
    "         'od-dzielać!', 'wy-dzielać!', 'roz-dzielać!',\n",
    "         'roz-głaszać!', 'roz-sadzać!', 'roz-szczelniać!',\n",
    "         'od-pady!', 'od-dech!'\n",
    "        ]\n",
    "lista2 = ['od-rodzenie', \n",
    "         'do-mowa!', 'u-mowa!', '-mowa!',\n",
    "         'od-powiedź', 'za-powiedź!', \n",
    "         'od-!', 'wy-czeka5!',\n",
    "         'odpowiedź!'\n",
    "        ]"
   ]
  },
  {
   "cell_type": "code",
   "execution_count": 71,
   "id": "198d7118-f626-4d47-a339-fd9c86fa1f1b",
   "metadata": {},
   "outputs": [
    {
     "name": "stdout",
     "output_type": "stream",
     "text": [
      "['od-rodzenie!', 'od-mowa!', 'wy-mowa!', 'roz-mowa!', 'od-powiedź!', 'wy-powiedź!', 'od-czekać!', 'wy-czekać!', 'od-kopać!', 'wy-kopać!', 'roz-kopać!', 'od-dzielać!', 'wy-dzielać!', 'roz-dzielać!', 'roz-głaszać!', 'roz-sadzać!', 'roz-szczelniać!', 'od-pady!', 'od-dech!']\n",
      "[]\n"
     ]
    }
   ],
   "source": [
    "lista_regex = re.compile(r'^(od|wy|roz)-[a-ząćęłńóśżź]+!$')\n",
    "\n",
    "lista1 = [element for element in lista1 if lista_regex.findall(element)]\n",
    "lista2 = [element for element in lista2 if lista_regex.findall(element)]\n",
    "\n",
    "print(lista1)\n",
    "print(lista2)\n"
   ]
  },
  {
   "cell_type": "markdown",
   "id": "0c3a4f65",
   "metadata": {},
   "source": [
    "**Zadanie 4**. Znajdź wyrażenie regularne, które będzie pasowało do wszystkich łańcuchów z listy 1 (w całości), ale nie będzie pasowało do żadnego z łańcuchów z listy 2:"
   ]
  },
  {
   "cell_type": "code",
   "execution_count": 9,
   "id": "5f6b7496",
   "metadata": {},
   "outputs": [],
   "source": [
    "lista1 = ['71 123-16-12', \n",
    "         '325-41-14',\n",
    "         '075 757-57-56',\n",
    "         '022 221 32 23',\n",
    "         '(073) 834-93-23',\n",
    "         '(31) 252 34 66'\n",
    "        ]\n",
    "lista2 = ['0021 523-23-61', \n",
    "          '12-123-23',\n",
    "         '154-f1-52',\n",
    "         '(075 757-57-56)',\n",
    "         '122 221 32 23'\n",
    "        ]"
   ]
  },
  {
   "cell_type": "code",
   "execution_count": null,
   "id": "fe685fcf-f80a-423f-89ff-49eb7d885789",
   "metadata": {},
   "outputs": [],
   "source": [
    "lista_regex = re.compile(r'^(od|wy|roz)-[a-ząćęłńóśżź]+!$')\n",
    "\n",
    "lista1 = [element for element in lista1 if lista_regex.findall(element)]\n",
    "lista2 = [element for element in lista2 if lista_regex.findall(element)]\n",
    "\n",
    "print(lista1)\n",
    "print(lista2)"
   ]
  },
  {
   "cell_type": "markdown",
   "id": "ad562ac6",
   "metadata": {},
   "source": [
    "**Zadanie 5**. Znajdź wyrażenie regularne, które będzie pasowało do wszystkich łańcuchów z listy 1 (w całości), ale nie będzie pasowało do żadnego z łańcuchów z listy 2:"
   ]
  },
  {
   "cell_type": "code",
   "execution_count": 11,
   "id": "b856c87b",
   "metadata": {
    "slideshow": {
     "slide_type": "fragment"
    }
   },
   "outputs": [],
   "source": [
    "lista1 = [',1-03-b2-23-cc-12,', \n",
    "          ',4-ef-12-2a-12,', \n",
    "          ',2-03-db-a2,', \n",
    "          ',b-03-12,', \n",
    "          ',f-12-66-93-33-15,'\n",
    "        ]\n",
    "lista2 = [',1-03-b2-23-cc-12,,', \n",
    "          '1-03-b2-23-cc-12,', \n",
    "          '.1-03-b2-23-cc-12,', \n",
    "          ',1-03-b2-23-cc-12.', \n",
    "          ',1-03-b2-23-cc-12', \n",
    "          ',g-03-b2-23-cc-12,', \n",
    "          ',1-0k-b2-23-cc-12,', \n",
    "          ',1-03-b2-23-cc-12-32,', \n",
    "          ',1-03,'\n",
    "        ]"
   ]
  },
  {
   "cell_type": "markdown",
   "id": "bd5b34ec",
   "metadata": {},
   "source": [
    "**Zadanie 6**. Znajdź wyrażenie regularne, które będzie pasowało do wszystkich łańcuchów z listy 1 (w całości), ale nie będzie pasowało do żadnego z łańcuchów z listy 2:"
   ]
  },
  {
   "cell_type": "code",
   "execution_count": 13,
   "id": "ad025656",
   "metadata": {},
   "outputs": [],
   "source": [
    "lista1 = ['a2@a2b.pl', \n",
    "         '1atlas1@a2b.my_mail.pl',\n",
    "         'why.me_you.crazy@to_the_other.side.co.uk',\n",
    "         'a.b.c.d.e.f.g.h@i.j--k.us',\n",
    "        ]\n",
    "lista2 = ['@dsw.pl', \n",
    "          'login@',\n",
    "         'adres@a2b..my_mail.com',\n",
    "         'adres@.my_mail.com',\n",
    "         'forever@and.ever.'\n",
    "        ]"
   ]
  }
 ],
 "metadata": {
  "kernelspec": {
   "display_name": "Python 3 (ipykernel)",
   "language": "python",
   "name": "python3"
  },
  "language_info": {
   "codemirror_mode": {
    "name": "ipython",
    "version": 3
   },
   "file_extension": ".py",
   "mimetype": "text/x-python",
   "name": "python",
   "nbconvert_exporter": "python",
   "pygments_lexer": "ipython3",
   "version": "3.11.7"
  }
 },
 "nbformat": 4,
 "nbformat_minor": 5
}
